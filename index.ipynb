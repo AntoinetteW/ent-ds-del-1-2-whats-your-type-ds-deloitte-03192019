{
 "cells": [
  {
   "cell_type": "markdown",
   "metadata": {},
   "source": [
    "# What's Your Type?\n",
    "\n",
    "\n",
    "## Introduction\n",
    "In this lesson, we'll introduce a couple of key concepts that the rest of your programming will depend upon - **variables** (for storing information) and **data types** (for working differently with different types of data).\n",
    "\n",
    "## Objectives\n",
    "You will be able to:\n",
    "* Explain how variables are a key element of programming \n",
    "* List some common data types in Python\n",
    "* Pick the appropriate Python data type for a given type of information"
   ]
  },
  {
   "cell_type": "markdown",
   "metadata": {},
   "source": [
    "## Variables\n",
    "\n",
    "A variable is a representation of some data that can be changed over time. \n",
    "\n",
    "Hit `shift-enter` to run the two cells below . . ."
   ]
  },
  {
   "cell_type": "code",
   "execution_count": null,
   "metadata": {},
   "outputs": [],
   "source": [
    "name = \"Sally\"\n",
    "name"
   ]
  },
  {
   "cell_type": "code",
   "execution_count": null,
   "metadata": {},
   "outputs": [],
   "source": [
    "name = \"Bill\"\n",
    "name"
   ]
  },
  {
   "cell_type": "markdown",
   "metadata": {},
   "source": [
    "As you can see, we started by **assigning** the value of \"Sally\" to the variable called `name` \n",
    "We then changed the value of the variable called `name` to \"Bill\""
   ]
  },
  {
   "cell_type": "markdown",
   "metadata": {},
   "source": [
    "Variables are one of the most important building blocks in programming as they allow us to store information, change it and act based on it's values . . . Run the next few cells using `shift-enter` . . ."
   ]
  },
  {
   "cell_type": "code",
   "execution_count": null,
   "metadata": {},
   "outputs": [],
   "source": [
    "first_name = \"Jessie\"\n",
    "last_name = \"Warden\"\n",
    "full_name = first_name + \" \" + last_name\n",
    "full_name"
   ]
  },
  {
   "cell_type": "code",
   "execution_count": null,
   "metadata": {},
   "outputs": [],
   "source": [
    "if last_name == \"Warden\":\n",
    "    print(\"I think it's Jessie\")\n",
    "else:\n",
    "    print(\"I don't think it's Jessie\")"
   ]
  },
  {
   "cell_type": "code",
   "execution_count": null,
   "metadata": {},
   "outputs": [],
   "source": [
    "last_name = \"Something Else\"\n",
    "if last_name == \"Warden\":\n",
    "    print(\"I think it's Jessie\")\n",
    "else:\n",
    "    print(\"I don't think it's Jessie\")"
   ]
  },
  {
   "cell_type": "markdown",
   "metadata": {},
   "source": [
    "## Data Types\n",
    "\n",
    "Every variable has a data type associated with it in Python. You can find the type using the following code:"
   ]
  },
  {
   "cell_type": "code",
   "execution_count": null,
   "metadata": {},
   "outputs": [],
   "source": [
    "type(first_name)"
   ]
  },
  {
   "cell_type": "markdown",
   "metadata": {},
   "source": [
    "As you can see if you run the cell above, the data type for the first_name variable is \"str\" which is short for a string.\n",
    "\n",
    "The **string** data type is one of the most common and flexible data types. When you import data into Python, it'll often start off as a string. If something can be represented by a set of characters, it can have a data type of string. Pretty much the only thing you can't store in a string is a binary file - something like an image or a video.\n",
    "\n",
    "Even though you *can* store almost anything in a string, you don't always want to.\n",
    "\n",
    "For example, lets say you have sales figures for three stores in a region last month and want to know what the total sales were, storing the information as variables with a data type of string might not work the way you'd want it to:"
   ]
  },
  {
   "cell_type": "code",
   "execution_count": null,
   "metadata": {},
   "outputs": [],
   "source": [
    "store_1_sales = \"20000\"\n",
    "store_2_sales = \"30000\"\n",
    "store_3_sales = \"15000\"\n",
    "regional_sales = store_1_sales + store_2_sales + store_3_sales\n",
    "regional_sales"
   ]
  },
  {
   "cell_type": "markdown",
   "metadata": {},
   "source": [
    "If you run the code above you'll see *that* isn't what you want! So we've going to have to change the type of the three variables to a type that allows for math. One good data type for that is the **Integer** (for whole numbers - no fractions or decimals)."
   ]
  },
  {
   "cell_type": "code",
   "execution_count": null,
   "metadata": {},
   "outputs": [],
   "source": [
    "store_1_sales = \"20000\"\n",
    "store_2_sales = \"30000\"\n",
    "store_3_sales = \"15000\"\n",
    "regional_sales = int(store_1_sales) + int(store_2_sales) + int(store_3_sales)\n",
    "regional_sales"
   ]
  },
  {
   "cell_type": "markdown",
   "metadata": {},
   "source": [
    "## Common Data Types in Python\n",
    "Some of the most common, simple data types in Python are:\n",
    "* **String** - Pretty much any set of characters can be stored as a string. Strings are a good starting point for most of your data, but you'll have to convert data if you want to do math with it, use it easily to return \"true\" or \"false\", or want to operate on dates and/or times.\n",
    "* **Integer** - Perfect for round numbers that you want to do math on. Number of students in a class, houses in a city or the number of pets that a particular family owns would all be great examples *(assuming there aren't any half demolished houses and that nobody owns a quarter of a pet goldfish!)*\n",
    "* **Floating point** - Ideal for numbers that require more precision than integers. It could be a stock price in dollars, the average age of a group of people, or the exact height of a person in meters. Be careful though. Floating point math in computers is not absolute, so occasionally you'll do math and the computer will return an answer of 23.00000001 or 22.99999999999 when if you'd done the same math yourself you'd see that actually the real answer is exactly 23.0\n",
    "* **Boolean** - Perfect for storing a value that is either **true** or **false**. `has_children` or `is_employed` would be examples of variable names that might want to have a boolean data type.\n",
    "* **DateTime** - If you want to compare dates, calculate the length of an event in hours or figure out how long it is until a discount code expires, you probably want to use a DateTime data type. Very powerful, but be careful. It might seem easy to write code using date times, but make sure to think about issues like timezones and daylight saving time - otherwise you might get some unexpected results!"
   ]
  },
  {
   "cell_type": "markdown",
   "metadata": {},
   "source": [
    "## Summary\n",
    "\n",
    "In this lesson we introduced the concept of variables and data types. We also provided a summary of some of the more popular, simple Python data types *(we'll talk about more complex data types like arrays, sets, lists and collections later)*. We also looked at the use cases for those popular variables.\n",
    "\n",
    "In the next lesson we're going to ask you to perform some data cleaning using what we've taught you about data types and we'll also ask you to solve some problems we've not yet provided the answer to!\n",
    "\n"
   ]
  }
 ],
 "metadata": {
  "kernelspec": {
   "display_name": "Python 3",
   "language": "python",
   "name": "python3"
  },
  "language_info": {
   "codemirror_mode": {
    "name": "ipython",
    "version": 3
   },
   "file_extension": ".py",
   "mimetype": "text/x-python",
   "name": "python",
   "nbconvert_exporter": "python",
   "pygments_lexer": "ipython3",
   "version": "3.6.6"
  }
 },
 "nbformat": 4,
 "nbformat_minor": 2
}
